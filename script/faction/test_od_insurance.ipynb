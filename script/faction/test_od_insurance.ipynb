{
 "cells": [
  {
   "cell_type": "code",
   "execution_count": 2,
   "metadata": {},
   "outputs": [],
   "source": [
    "import json, requests\n",
    "from datetime import datetime, timezone\n",
    "\n",
    "start = datetime(2023,5,1)\n",
    "timestamp = start.replace(tzinfo=timezone.utc).timestamp()\n",
    "\n",
    "url = \"https://api.torn.com/user/?selections=log&log=4103&from={}&key=4QKEFxUNZrJZ0QC8\".format(timestamp)"
   ]
  },
  {
   "cell_type": "code",
   "execution_count": 3,
   "metadata": {},
   "outputs": [],
   "source": [
    "res = requests.get(url)\n",
    "content = json.loads(res.text)"
   ]
  },
  {
   "cell_type": "code",
   "execution_count": 9,
   "metadata": {},
   "outputs": [],
   "source": [
    "ody_list = {}\n",
    "odx_list = {}\n",
    "others_list = {}\n",
    "for item in content[\"log\"]:\n",
    "    data = content[\"log\"][item][\"data\"]\n",
    "    ppl = data[\"sender\"]\n",
    "    if \"206\" in data[\"items\"]:\n",
    "        amount = data[\"items\"][\"206\"]\n",
    "        if \"ody\" in data[\"message\"]:\n",
    "            ody_list[ppl] = ody_list.get(ppl, 0) + amount\n",
    "        elif \"odx\" in data[\"message\"]:\n",
    "            odx_list[ppl] = ody_list.get(ppl, 0) + amount\n",
    "        else:\n",
    "            others_list[ppl] = others_list.get(ppl, \"\") + \"--- \" + data[\"message\"] + \":\" + str(amount)"
   ]
  },
  {
   "cell_type": "code",
   "execution_count": 10,
   "metadata": {},
   "outputs": [
    {
     "name": "stdout",
     "output_type": "stream",
     "text": [
      " {2890633: 4, 2917721: 4, 2880987: 4} \n",
      " {2703693: 1, 2845157: 2, 2823602: 2, 2786678: 2, 2694927: 2, 2756414: 2, 2686977: 2, 2783643: 2, 2678991: 2, 2410531: 2} \n",
      " {2771616: '--- ofy:2', 2697716: '--- :1', 2356929: '--- Officer Wage:10', 2893476: '--- April xan:5', 2807246: '--- :1', 2893026: '--- :1'}\n"
     ]
    }
   ],
   "source": [
    "print(\"\", odx_list, \"\\n\", ody_list, \"\\n\", others_list)"
   ]
  },
  {
   "cell_type": "code",
   "execution_count": null,
   "metadata": {},
   "outputs": [],
   "source": []
  }
 ],
 "metadata": {
  "kernelspec": {
   "display_name": "Python 3",
   "language": "python",
   "name": "python3"
  },
  "language_info": {
   "codemirror_mode": {
    "name": "ipython",
    "version": 3
   },
   "file_extension": ".py",
   "mimetype": "text/x-python",
   "name": "python",
   "nbconvert_exporter": "python",
   "pygments_lexer": "ipython3",
   "version": "3.8.10"
  },
  "orig_nbformat": 4
 },
 "nbformat": 4,
 "nbformat_minor": 2
}
