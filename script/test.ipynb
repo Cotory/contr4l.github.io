{
 "cells": [
  {
   "cell_type": "code",
   "execution_count": 1,
   "metadata": {},
   "outputs": [
    {
     "name": "stdout",
     "output_type": "stream",
     "text": [
      ". [] ['deepl_glossary.py', 'wiki_crawler.py', 'test.ipynb', 'test.html', 'test_glossary.txt', 'deepl_translate.py', 'generate_links.py', 'table_html2md.py', 'test.csv', 'New Player Missions.html', 'Main Page.html', 'main.py', 'company_detector.py']\n"
     ]
    }
   ],
   "source": [
    "import os\n",
    "for i,j,k in os.walk(\".\"):\n",
    "    print(i,j,k)"
   ]
  },
  {
   "cell_type": "code",
   "execution_count": 9,
   "metadata": {},
   "outputs": [
    {
     "data": {
      "text/plain": [
       "Index(['序号', '日期', 'Training Contract', 'Protection Contract',\n",
       "       'Engagement Contract', 'Military Contract', '生产日期', '收入', '工资', '广告费',\n",
       "       '利润', '总效率', 'Unnamed: 12', '产量', '销量', '库存', '单价', '成本', '记录时间'],\n",
       "      dtype='object')"
      ]
     },
     "execution_count": 9,
     "metadata": {},
     "output_type": "execute_result"
    }
   ],
   "source": [
    "import pandas as pd\n",
    "df = pd.read_csv(\"test.csv\")\n",
    "df.columns"
   ]
  },
  {
   "cell_type": "code",
   "execution_count": 55,
   "metadata": {},
   "outputs": [
    {
     "data": {
      "text/plain": [
       "'2023/1/17'"
      ]
     },
     "execution_count": 55,
     "metadata": {},
     "output_type": "execute_result"
    }
   ],
   "source": [
    "df[\"日期\"].loc[1]"
   ]
  },
  {
   "cell_type": "code",
   "execution_count": 17,
   "metadata": {},
   "outputs": [],
   "source": [
    "import datetime\n",
    "now = datetime.datetime.now()"
   ]
  },
  {
   "cell_type": "code",
   "execution_count": 63,
   "metadata": {},
   "outputs": [],
   "source": [
    "a = df[df[\"日期\"]==\"2023/1/17\"].index[0]"
   ]
  },
  {
   "cell_type": "code",
   "execution_count": 3,
   "metadata": {},
   "outputs": [],
   "source": [
    "import requests\n",
    "data = requests.get(\"https://api.torn.com/company/?selections=stock&key=GkGCcSyK7Fa359MT\")\n",
    "\n",
    "import json\n",
    "a = json.loads(data.text)"
   ]
  },
  {
   "cell_type": "code",
   "execution_count": 5,
   "metadata": {},
   "outputs": [
    {
     "data": {
      "text/plain": [
       "{'Training Contract': {'cost': 0,\n",
       "  'rrp': 500000,\n",
       "  'price': 500000,\n",
       "  'in_stock': 0,\n",
       "  'on_order': 0,\n",
       "  'sold_amount': 0,\n",
       "  'sold_worth': 0},\n",
       " 'Protection Contract': {'cost': 0,\n",
       "  'rrp': 3000000,\n",
       "  'price': 3000000,\n",
       "  'in_stock': 0,\n",
       "  'on_order': 0,\n",
       "  'sold_amount': 0,\n",
       "  'sold_worth': 0},\n",
       " 'Engagement Contract': {'cost': 0,\n",
       "  'rrp': 10000000,\n",
       "  'price': 8000000,\n",
       "  'in_stock': 0,\n",
       "  'on_order': 0,\n",
       "  'sold_amount': 0,\n",
       "  'sold_worth': 0},\n",
       " 'Military Contract': {'cost': 0,\n",
       "  'rrp': 25000000,\n",
       "  'price': 12000000,\n",
       "  'in_stock': 0,\n",
       "  'on_order': 0,\n",
       "  'sold_amount': 1,\n",
       "  'sold_worth': 10000000}}"
      ]
     },
     "execution_count": 5,
     "metadata": {},
     "output_type": "execute_result"
    }
   ],
   "source": [
    "a[\"company_stock\"]"
   ]
  },
  {
   "cell_type": "code",
   "execution_count": null,
   "metadata": {},
   "outputs": [],
   "source": []
  }
 ],
 "metadata": {
  "kernelspec": {
   "display_name": "Python 3",
   "language": "python",
   "name": "python3"
  },
  "language_info": {
   "codemirror_mode": {
    "name": "ipython",
    "version": 3
   },
   "file_extension": ".py",
   "mimetype": "text/x-python",
   "name": "python",
   "nbconvert_exporter": "python",
   "pygments_lexer": "ipython3",
   "version": "3.8.10"
  },
  "orig_nbformat": 4
 },
 "nbformat": 4,
 "nbformat_minor": 2
}
